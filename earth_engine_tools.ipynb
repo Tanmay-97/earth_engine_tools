{
 "cells": [
  {
   "cell_type": "code",
   "execution_count": null,
   "metadata": {},
   "outputs": [],
   "source": [
    "import geemap\n",
    "import ee\n",
    "from ee import batch"
   ]
  },
  {
   "cell_type": "code",
   "execution_count": null,
   "metadata": {},
   "outputs": [],
   "source": [
    "import pandas as pd\n",
    "import seaborn as sns\n",
    "import matplotlib.pyplot as plt\n",
    "import matplotlib.dates as mdates\n",
    "import calendar\n",
    "import altair as alt\n",
    "from altair_saver import save"
   ]
  },
  {
   "cell_type": "code",
   "execution_count": null,
   "metadata": {
    "scrolled": false
   },
   "outputs": [],
   "source": [
    "ee.Authenticate()"
   ]
  },
  {
   "cell_type": "code",
   "execution_count": null,
   "metadata": {},
   "outputs": [],
   "source": [
    "ee.Initialize()"
   ]
  },
  {
   "cell_type": "code",
   "execution_count": null,
   "metadata": {
    "scrolled": true
   },
   "outputs": [],
   "source": [
    "center_lat = 22.62739 \n",
    "center_lon = 77.17170\n",
    "zoomlevel=6\n",
    "\n",
    "viirs = ee.ImageCollection(\"NOAA/VIIRS/DNB/MONTHLY_V1/VCMSLCFG\").filterDate(\"2020-01-01\",\"2020-12-31\").select('avg_rad').median()\n",
    "map1 = geemap.Map(center=[center_lat, center_lon],zoom=4)\n",
    "map1.addLayer(viirs, {}, \"VIIRS-DNB- India 2020\", opacity=0.9)\n",
    "map1.addLayerControl()\n",
    "map1"
   ]
  },
  {
   "cell_type": "code",
   "execution_count": null,
   "metadata": {
    "scrolled": true
   },
   "outputs": [],
   "source": [
    "hkv_lat = 28.554769 - 8\n",
    "hkv_lon = 77.194431 + 1\n",
    "#delhi_aoi = ee.Geometry.Point([hkv_lon, hkv_lat]).buffer(1500000);\n",
    "india_aoi = ee.Geometry.Rectangle([67, 4 , 97, 35])\n",
    "viirs = ee.ImageCollection(\"NOAA/VIIRS/DNB/MONTHLY_V1/VCMSLCFG\").filterDate(\"2017-01-01\",\"2017-12-31\").select('avg_rad').median()\n",
    "clipped = viirs.clip(india_aoi)\n",
    "map2 = geemap.Map(center=[hkv_lat, hkv_lon],zoom=4)\n",
    "map2.add_basemap('SATELLITE')\n",
    "map2.addLayer(clipped, {}, \"VIIRS-DNB- HKV 2020\")\n",
    "map2.addLayerControl()\n",
    "map2"
   ]
  },
  {
   "cell_type": "code",
   "execution_count": null,
   "metadata": {},
   "outputs": [],
   "source": [
    "# Viz 2: India GIF\n",
    "years = [str(i) for i in range(2015,2021)]\n",
    "\n",
    "for year in years:\n",
    "    print(year)\n",
    "    start = year + \"-01-01\"\n",
    "    end = year + \"-12-31\"\n",
    "    viirs = ee.ImageCollection(\"NOAA/VIIRS/DNB/MONTHLY_V1/VCMSLCFG\").filterDate(start, end).select('avg_rad').median()\n",
    "    clipped = viirs.clip(india_aoi)\n",
    "    \n",
    "    task = batch.Export.image.toDrive(image=clipped,\n",
    "                                     fileFormat='GEO_TIFF',\n",
    "                                     description=year,\n",
    "                                     folder='tmp2',\n",
    "                                     scale = 800,\n",
    "                                     maxPixels=1e13)\n",
    "\n",
    "    task.start()\n"
   ]
  },
  {
   "cell_type": "code",
   "execution_count": null,
   "metadata": {},
   "outputs": [],
   "source": [
    "# Viz 3: SRK's mansion\n",
    "poi = ee.Geometry.Point(72.820378, 19.045113).buffer(500) #72.820378\n",
    "viirs = ee.ImageCollection(\"NOAA/VIIRS/DNB/MONTHLY_V1/VCMSLCFG\").filterDate('2015-01-01','2019-12-31')\n",
    "\n",
    "def poi_mean(img):\n",
    "    mean = img.reduceRegion(reducer=ee.Reducer.mean(), geometry=poi, scale=30).get('avg_rad')\n",
    "    return img.set('date', img.date().format()).set('mean',mean)\n",
    "\n",
    "poi_reduced_imgs = viirs.map(poi_mean)\n",
    "\n",
    "nested_list = poi_reduced_imgs.reduceColumns(ee.Reducer.toList(2), ['date','mean']).values().get(0)\n",
    "df = pd.DataFrame(nested_list.getInfo(), columns=['date','mean'])\n",
    "\n",
    "df['date'] = pd.to_datetime(df['date'])\n",
    "df['month-year']= df.date.dt.month.apply(lambda x: calendar.month_abbr[x]) +'-'+ df.date.dt.year.astype(str)\n",
    "df['order'] = range(len(df))\n",
    "#df = df.set_index('month-year')\n",
    "\n",
    "#fig, ax = plt.subplots(figsize=(15,7))\n",
    "#plt.xticks(rotation = 65)\n",
    "# we'll create the plot by setting our dataframe to the data argument\n",
    "#sns.lineplot(data=df, ax=ax)\n",
    "\n",
    "# we'll set the labels and title\n",
    "#ax.set_ylabel('Mean radiance',fontsize=20)\n",
    "#ax.set_xlabel('Month-year',fontsize=20)\n",
    "#ax.set_title('Monthly mean radiance for Bandra West (Jan 2015 to Dec 2019)',fontsize=20);"
   ]
  },
  {
   "cell_type": "code",
   "execution_count": null,
   "metadata": {},
   "outputs": [],
   "source": [
    "line_chart = alt.Chart(df, title = 'NL in Bandra West, Mumbai').mark_line().encode(\n",
    "    x=alt.X('month-year:T', axis=alt.Axis(title='Month-Year')),\n",
    "    y=alt.Y('mean:Q', axis=alt.Axis(title='Mean Night Light Intensity'))\n",
    ")\n",
    "save(line_chart, 'Viz4.html')"
   ]
  },
  {
   "cell_type": "code",
   "execution_count": null,
   "metadata": {},
   "outputs": [],
   "source": [
    "# Viz 4: Daytime imagery Delhi Airport\n",
    "collection = ee.ImageCollection('LANDSAT/LC8_L1T_TOA')\n",
    "\n",
    "## Above commented out as you might not know the path and row this allows you to pass a coordinate\n",
    "pointUAE = ee.Geometry.Point(77.194431, 28.554769)\n",
    "pathrow = collection.filterBounds(pointUAE)\n",
    " \n",
    "##Filter cloudy scenes.\n",
    "clouds = pathrow.filter(ee.Filter.lt('CLOUD_COVER', 5))\n",
    "\n",
    "## select the bands, we are going for true colour... but could be any!\n",
    "bands = clouds.select(['B4', 'B3', 'B2'])\n",
    "\n",
    "##make the data 8-bit.\n",
    "def convertBit(image):\n",
    "    return image.multiply(512).uint8()  \n",
    "\n",
    "## call the conversion    \n",
    "outputVideo = bands.map(convertBit)\n",
    "\n",
    "#Export to video.\n",
    "# Delhi\n",
    "out = batch.Export.video.toDrive(outputVideo, description='delhi_video', dimensions = 720, framesPerSecond = 2, region=([77.21,28.6], [77.06, 28.6], [77.06, 28.52],[77.21, 28.52]), maxFrames=10000)\n",
    "\n",
    "## process the image\n",
    "process = batch.Task.start(out)\n"
   ]
  },
  {
   "cell_type": "code",
   "execution_count": null,
   "metadata": {},
   "outputs": [],
   "source": [
    "# Viz 5: HKV lights during pandemic\n",
    "poi = ee.Geometry.Point([hkv_lon, hkv_lat]).buffer(6000);\n",
    "viirs = ee.ImageCollection(\"NOAA/VIIRS/DNB/MONTHLY_V1/VCMSLCFG\").filterDate('2018-06-01','2020-12-31')\n",
    "\n",
    "def poi_mean(img):\n",
    "    mean = img.reduceRegion(reducer=ee.Reducer.mean(), geometry=poi, scale=30).get('avg_rad')\n",
    "    return img.set('date', img.date().format()).set('mean',mean)\n",
    "\n",
    "poi_reduced_imgs = viirs.map(poi_mean)\n",
    "\n",
    "nested_list = poi_reduced_imgs.reduceColumns(ee.Reducer.toList(2), ['date','mean']).values().get(0)\n",
    "df = pd.DataFrame(nested_list.getInfo(), columns=['date','mean'])\n",
    "\n",
    "df['date'] = pd.to_datetime(df['date'])\n",
    "df['month-year']= df.date.dt.month.apply(lambda x: calendar.month_abbr[x]) +'-'+ df.date.dt.year.astype(str)\n",
    "df = df.set_index('month-year')\n",
    "\n",
    "fig, ax = plt.subplots(figsize=(15,7))\n",
    "plt.xticks(rotation = 65)\n",
    "# we'll create the plot by setting our dataframe to the data argument\n",
    "sns.lineplot(data=df, ax=ax)\n",
    "\n",
    "# we'll set the labels and title\n",
    "ax.set_ylabel('Mean radiance',fontsize=20)\n",
    "ax.set_xlabel('Month-year',fontsize=20)\n",
    "ax.set_title('Monthly mean radiance for HKV (Jun 2019 to Dec 2020)',fontsize=20);"
   ]
  }
 ],
 "metadata": {
  "@webio": {
   "lastCommId": null,
   "lastKernelId": null
  },
  "kernelspec": {
   "display_name": "Python 3",
   "language": "python",
   "name": "python3"
  },
  "language_info": {
   "codemirror_mode": {
    "name": "ipython",
    "version": 3
   },
   "file_extension": ".py",
   "mimetype": "text/x-python",
   "name": "python",
   "nbconvert_exporter": "python",
   "pygments_lexer": "ipython3",
   "version": "3.7.10"
  }
 },
 "nbformat": 4,
 "nbformat_minor": 4
}
