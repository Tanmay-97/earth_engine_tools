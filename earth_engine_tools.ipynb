{
 "cells": [
  {
   "cell_type": "code",
   "execution_count": 1,
   "metadata": {},
   "outputs": [],
   "source": [
    "import geemap\n",
    "import ee\n",
    "from ee import batch"
   ]
  },
  {
   "cell_type": "code",
   "execution_count": 9,
   "metadata": {},
   "outputs": [],
   "source": [
    "import pandas as pd\n",
    "import seaborn as sns\n",
    "import matplotlib.pyplot as plt\n",
    "import matplotlib.dates as mdates\n",
    "import calendar\n",
    "import altair as alt\n",
    "from altair_saver import save"
   ]
  },
  {
   "cell_type": "code",
   "execution_count": 3,
   "metadata": {},
   "outputs": [
    {
     "data": {
      "text/html": [
       "<p>To authorize access needed by Earth Engine, open the following\n",
       "        URL in a web browser and follow the instructions:</p>\n",
       "        <p><a href=https://accounts.google.com/o/oauth2/auth?client_id=517222506229-vsmmajv00ul0bs7p89v5m89qs8eb9359.apps.googleusercontent.com&scope=https%3A%2F%2Fwww.googleapis.com%2Fauth%2Fearthengine+https%3A%2F%2Fwww.googleapis.com%2Fauth%2Fdevstorage.full_control&redirect_uri=urn%3Aietf%3Awg%3Aoauth%3A2.0%3Aoob&response_type=code&code_challenge=34B6Ctf8HuHIiylxW73v8_emB1cghCPvILI_vXt-hus&code_challenge_method=S256>https://accounts.google.com/o/oauth2/auth?client_id=517222506229-vsmmajv00ul0bs7p89v5m89qs8eb9359.apps.googleusercontent.com&scope=https%3A%2F%2Fwww.googleapis.com%2Fauth%2Fearthengine+https%3A%2F%2Fwww.googleapis.com%2Fauth%2Fdevstorage.full_control&redirect_uri=urn%3Aietf%3Awg%3Aoauth%3A2.0%3Aoob&response_type=code&code_challenge=34B6Ctf8HuHIiylxW73v8_emB1cghCPvILI_vXt-hus&code_challenge_method=S256</a></p>\n",
       "        <p>The authorization workflow will generate a code, which you\n",
       "        should paste in the box below</p>\n",
       "        "
      ],
      "text/plain": [
       "<IPython.core.display.HTML object>"
      ]
     },
     "metadata": {},
     "output_type": "display_data"
    },
    {
     "name": "stdout",
     "output_type": "stream",
     "text": [
      "Enter verification code: 4/1AY0e-g7WF8OWz28PFzN2stcUpdNm46OZKcee-Cz875A9uGZmimNbIn3t8oQ\n",
      "\n",
      "Successfully saved authorization token.\n"
     ]
    }
   ],
   "source": [
    "ee.Authenticate()"
   ]
  },
  {
   "cell_type": "code",
   "execution_count": 4,
   "metadata": {},
   "outputs": [],
   "source": [
    "ee.Initialize()"
   ]
  },
  {
   "cell_type": "code",
   "execution_count": 5,
   "metadata": {
    "scrolled": true
   },
   "outputs": [
    {
     "data": {
      "application/vnd.jupyter.widget-view+json": {
       "model_id": "1e945cad04c94eb6b7f0164bbe1fabf7",
       "version_major": 2,
       "version_minor": 0
      },
      "text/plain": [
       "Map(center=[22.62739, 77.1717], controls=(WidgetControl(options=['position'], widget=HBox(children=(ToggleButt…"
      ]
     },
     "metadata": {},
     "output_type": "display_data"
    }
   ],
   "source": [
    "center_lat = 22.62739 \n",
    "center_lon = 77.17170\n",
    "zoomlevel=6\n",
    "\n",
    "viirs = ee.ImageCollection(\"NOAA/VIIRS/DNB/MONTHLY_V1/VCMSLCFG\").filterDate(\"2020-01-01\",\"2020-12-31\").select('avg_rad').median()\n",
    "map1 = geemap.Map(center=[center_lat, center_lon],zoom=4)\n",
    "map1.addLayer(viirs, {}, \"VIIRS-DNB- India 2020\", opacity=0.9)\n",
    "map1.addLayerControl()\n",
    "map1"
   ]
  },
  {
   "cell_type": "code",
   "execution_count": 6,
   "metadata": {
    "scrolled": true
   },
   "outputs": [
    {
     "data": {
      "application/vnd.jupyter.widget-view+json": {
       "model_id": "7c6af016c4d44548a2315f410494a237",
       "version_major": 2,
       "version_minor": 0
      },
      "text/plain": [
       "Map(center=[20.554769, 78.194431], controls=(WidgetControl(options=['position'], widget=HBox(children=(ToggleB…"
      ]
     },
     "metadata": {},
     "output_type": "display_data"
    }
   ],
   "source": [
    "hkv_lat = 28.554769 - 8\n",
    "hkv_lon = 77.194431 + 1\n",
    "#delhi_aoi = ee.Geometry.Point([hkv_lon, hkv_lat]).buffer(1500000);\n",
    "india_aoi = ee.Geometry.Rectangle([67, 4 , 97, 35])\n",
    "viirs = ee.ImageCollection(\"NOAA/VIIRS/DNB/MONTHLY_V1/VCMSLCFG\").filterDate(\"2017-01-01\",\"2017-12-31\").select('avg_rad').median()\n",
    "clipped = viirs.clip(india_aoi)\n",
    "map2 = geemap.Map(center=[hkv_lat, hkv_lon],zoom=4)\n",
    "map2.add_basemap('SATELLITE')\n",
    "map2.addLayer(clipped, {}, \"VIIRS-DNB- HKV 2020\")\n",
    "map2.addLayerControl()\n",
    "map2"
   ]
  },
  {
   "cell_type": "code",
   "execution_count": null,
   "metadata": {},
   "outputs": [],
   "source": [
    "# Viz 2: India GIF\n",
    "years = [str(i) for i in range(2015,2021)]\n",
    "\n",
    "for year in years:\n",
    "    print(year)\n",
    "    start = year + \"-01-01\"\n",
    "    end = year + \"-12-31\"\n",
    "    viirs = ee.ImageCollection(\"NOAA/VIIRS/DNB/MONTHLY_V1/VCMSLCFG\").filterDate(start, end).select('avg_rad').median()\n",
    "    clipped = viirs.clip(india_aoi)\n",
    "    \n",
    "    task = batch.Export.image.toDrive(image=clipped,\n",
    "                                     fileFormat='GEO_TIFF',\n",
    "                                     description=year,\n",
    "                                     folder='tmp2',\n",
    "                                     scale = 800,\n",
    "                                     maxPixels=1e13)\n",
    "\n",
    "    task.start()\n"
   ]
  },
  {
   "cell_type": "code",
   "execution_count": 18,
   "metadata": {},
   "outputs": [],
   "source": [
    "# Viz 3: SRK's mansion\n",
    "poi = ee.Geometry.Point(72.820378, 19.045113).buffer(500) #72.820378\n",
    "viirs = ee.ImageCollection(\"NOAA/VIIRS/DNB/MONTHLY_V1/VCMSLCFG\").filterDate('2015-01-01','2019-12-31')\n",
    "\n",
    "def poi_mean(img):\n",
    "    mean = img.reduceRegion(reducer=ee.Reducer.mean(), geometry=poi, scale=30).get('avg_rad')\n",
    "    return img.set('date', img.date().format()).set('mean',mean)\n",
    "\n",
    "poi_reduced_imgs = viirs.map(poi_mean)\n",
    "\n",
    "nested_list = poi_reduced_imgs.reduceColumns(ee.Reducer.toList(2), ['date','mean']).values().get(0)\n",
    "df = pd.DataFrame(nested_list.getInfo(), columns=['date','mean'])\n",
    "\n",
    "df['date'] = pd.to_datetime(df['date'])\n",
    "df['month-year']= df.date.dt.month.apply(lambda x: calendar.month_abbr[x]) +'-'+ df.date.dt.year.astype(str)\n",
    "df['order'] = range(len(df))\n",
    "#df = df.set_index('month-year')\n",
    "\n",
    "#fig, ax = plt.subplots(figsize=(15,7))\n",
    "#plt.xticks(rotation = 65)\n",
    "# we'll create the plot by setting our dataframe to the data argument\n",
    "#sns.lineplot(data=df, ax=ax)\n",
    "\n",
    "# we'll set the labels and title\n",
    "#ax.set_ylabel('Mean radiance',fontsize=20)\n",
    "#ax.set_xlabel('Month-year',fontsize=20)\n",
    "#ax.set_title('Monthly mean radiance for Bandra West (Jan 2015 to Dec 2019)',fontsize=20);"
   ]
  },
  {
   "cell_type": "code",
   "execution_count": 31,
   "metadata": {},
   "outputs": [
    {
     "data": {
      "application/javascript": [
       "const spec = {\"config\": {\"view\": {\"continuousWidth\": 400, \"continuousHeight\": 300}}, \"data\": {\"name\": \"data-f9f1ad81a87930b45c6534e6a6cd7c26\"}, \"mark\": \"line\", \"encoding\": {\"x\": {\"type\": \"temporal\", \"axis\": {\"title\": \"Month-Year\"}, \"field\": \"month-year\"}, \"y\": {\"type\": \"quantitative\", \"axis\": {\"title\": \"Mean Night Light Intensity\"}, \"field\": \"mean\"}}, \"title\": \"NL in Bandra West, Mumbai\", \"$schema\": \"https://vega.github.io/schema/vega-lite/v4.8.1.json\", \"datasets\": {\"data-f9f1ad81a87930b45c6534e6a6cd7c26\": [{\"date\": \"2015-01-01T00:00:00\", \"mean\": 20.619469569747903, \"month-year\": \"Jan-2015\", \"order\": 0}, {\"date\": \"2015-02-01T00:00:00\", \"mean\": 20.264955874702377, \"month-year\": \"Feb-2015\", \"order\": 1}, {\"date\": \"2015-03-01T00:00:00\", \"mean\": 17.135963569252212, \"month-year\": \"Mar-2015\", \"order\": 2}, {\"date\": \"2015-04-01T00:00:00\", \"mean\": 18.776491205657198, \"month-year\": \"Apr-2015\", \"order\": 3}, {\"date\": \"2015-05-01T00:00:00\", \"mean\": 18.28358098818425, \"month-year\": \"May-2015\", \"order\": 4}, {\"date\": \"2015-06-01T00:00:00\", \"mean\": 11.85161529120403, \"month-year\": \"Jun-2015\", \"order\": 5}, {\"date\": \"2015-07-01T00:00:00\", \"mean\": 16.512114979994383, \"month-year\": \"Jul-2015\", \"order\": 6}, {\"date\": \"2015-08-01T00:00:00\", \"mean\": 14.261121020003845, \"month-year\": \"Aug-2015\", \"order\": 7}, {\"date\": \"2015-09-01T00:00:00\", \"mean\": 18.0046708448654, \"month-year\": \"Sep-2015\", \"order\": 8}, {\"date\": \"2015-10-01T00:00:00\", \"mean\": 17.486066748570014, \"month-year\": \"Oct-2015\", \"order\": 9}, {\"date\": \"2015-11-01T00:00:00\", \"mean\": 20.63267336755159, \"month-year\": \"Nov-2015\", \"order\": 10}, {\"date\": \"2015-12-01T00:00:00\", \"mean\": 18.15397062031854, \"month-year\": \"Dec-2015\", \"order\": 11}, {\"date\": \"2016-01-01T00:00:00\", \"mean\": 18.54244090216929, \"month-year\": \"Jan-2016\", \"order\": 12}, {\"date\": \"2016-02-01T00:00:00\", \"mean\": 21.06345117492263, \"month-year\": \"Feb-2016\", \"order\": 13}, {\"date\": \"2016-03-01T00:00:00\", \"mean\": 20.51782537311828, \"month-year\": \"Mar-2016\", \"order\": 14}, {\"date\": \"2016-04-01T00:00:00\", \"mean\": 21.497646324439078, \"month-year\": \"Apr-2016\", \"order\": 15}, {\"date\": \"2016-05-01T00:00:00\", \"mean\": 19.70287634778391, \"month-year\": \"May-2016\", \"order\": 16}, {\"date\": \"2016-06-01T00:00:00\", \"mean\": 18.586113606610645, \"month-year\": \"Jun-2016\", \"order\": 17}, {\"date\": \"2016-07-01T00:00:00\", \"mean\": 12.002804106272016, \"month-year\": \"Jul-2016\", \"order\": 18}, {\"date\": \"2016-08-01T00:00:00\", \"mean\": 7.309442182853811, \"month-year\": \"Aug-2016\", \"order\": 19}, {\"date\": \"2016-09-01T00:00:00\", \"mean\": 18.586915647492166, \"month-year\": \"Sep-2016\", \"order\": 20}, {\"date\": \"2016-10-01T00:00:00\", \"mean\": 23.753662753122352, \"month-year\": \"Oct-2016\", \"order\": 21}, {\"date\": \"2016-11-01T00:00:00\", \"mean\": 25.498892733349262, \"month-year\": \"Nov-2016\", \"order\": 22}, {\"date\": \"2016-12-01T00:00:00\", \"mean\": 28.223482497167126, \"month-year\": \"Dec-2016\", \"order\": 23}, {\"date\": \"2017-01-01T00:00:00\", \"mean\": 27.934312147941473, \"month-year\": \"Jan-2017\", \"order\": 24}, {\"date\": \"2017-02-01T00:00:00\", \"mean\": 25.854337735506157, \"month-year\": \"Feb-2017\", \"order\": 25}, {\"date\": \"2017-03-01T00:00:00\", \"mean\": 22.309598235810366, \"month-year\": \"Mar-2017\", \"order\": 26}, {\"date\": \"2017-04-01T00:00:00\", \"mean\": 22.126046738476614, \"month-year\": \"Apr-2017\", \"order\": 27}, {\"date\": \"2017-05-01T00:00:00\", \"mean\": 20.56458728497229, \"month-year\": \"May-2017\", \"order\": 28}, {\"date\": \"2017-06-01T00:00:00\", \"mean\": 14.938411881467326, \"month-year\": \"Jun-2017\", \"order\": 29}, {\"date\": \"2017-07-01T00:00:00\", \"mean\": 16.56896018120297, \"month-year\": \"Jul-2017\", \"order\": 30}, {\"date\": \"2017-08-01T00:00:00\", \"mean\": 19.821472534274342, \"month-year\": \"Aug-2017\", \"order\": 31}, {\"date\": \"2017-09-01T00:00:00\", \"mean\": 19.95646860452067, \"month-year\": \"Sep-2017\", \"order\": 32}, {\"date\": \"2017-10-01T00:00:00\", \"mean\": 21.317645289990626, \"month-year\": \"Oct-2017\", \"order\": 33}, {\"date\": \"2017-11-01T00:00:00\", \"mean\": 20.97432442925243, \"month-year\": \"Nov-2017\", \"order\": 34}, {\"date\": \"2017-12-01T00:00:00\", \"mean\": 26.766107898335022, \"month-year\": \"Dec-2017\", \"order\": 35}, {\"date\": \"2018-01-01T00:00:00\", \"mean\": 22.279536935833633, \"month-year\": \"Jan-2018\", \"order\": 36}, {\"date\": \"2018-02-01T00:00:00\", \"mean\": 23.693936888844377, \"month-year\": \"Feb-2018\", \"order\": 37}, {\"date\": \"2018-03-01T00:00:00\", \"mean\": 21.87605779445601, \"month-year\": \"Mar-2018\", \"order\": 38}, {\"date\": \"2018-04-01T00:00:00\", \"mean\": 23.07861845879621, \"month-year\": \"Apr-2018\", \"order\": 39}, {\"date\": \"2018-05-01T00:00:00\", \"mean\": 20.9394441987866, \"month-year\": \"May-2018\", \"order\": 40}, {\"date\": \"2018-06-01T00:00:00\", \"mean\": 17.272948794867016, \"month-year\": \"Jun-2018\", \"order\": 41}, {\"date\": \"2018-07-01T00:00:00\", \"mean\": 0.0, \"month-year\": \"Jul-2018\", \"order\": 42}, {\"date\": \"2018-08-01T00:00:00\", \"mean\": 0.0, \"month-year\": \"Aug-2018\", \"order\": 43}, {\"date\": \"2018-09-01T00:00:00\", \"mean\": 28.017230798128104, \"month-year\": \"Sep-2018\", \"order\": 44}, {\"date\": \"2018-10-01T00:00:00\", \"mean\": 19.54128363219868, \"month-year\": \"Oct-2018\", \"order\": 45}, {\"date\": \"2018-11-01T00:00:00\", \"mean\": 25.680908754473574, \"month-year\": \"Nov-2018\", \"order\": 46}, {\"date\": \"2018-12-01T00:00:00\", \"mean\": 26.797576750348053, \"month-year\": \"Dec-2018\", \"order\": 47}, {\"date\": \"2019-01-01T00:00:00\", \"mean\": 25.815185897404398, \"month-year\": \"Jan-2019\", \"order\": 48}, {\"date\": \"2019-02-01T00:00:00\", \"mean\": 26.287921496612974, \"month-year\": \"Feb-2019\", \"order\": 49}, {\"date\": \"2019-03-01T00:00:00\", \"mean\": 28.61845793115104, \"month-year\": \"Mar-2019\", \"order\": 50}, {\"date\": \"2019-04-01T00:00:00\", \"mean\": 22.850522798545484, \"month-year\": \"Apr-2019\", \"order\": 51}, {\"date\": \"2019-05-01T00:00:00\", \"mean\": 25.32087786805551, \"month-year\": \"May-2019\", \"order\": 52}, {\"date\": \"2019-06-01T00:00:00\", \"mean\": 22.82152343768426, \"month-year\": \"Jun-2019\", \"order\": 53}, {\"date\": \"2019-07-01T00:00:00\", \"mean\": 17.834609939827253, \"month-year\": \"Jul-2019\", \"order\": 54}, {\"date\": \"2019-08-01T00:00:00\", \"mean\": 13.648242909955668, \"month-year\": \"Aug-2019\", \"order\": 55}, {\"date\": \"2019-09-01T00:00:00\", \"mean\": 0.0, \"month-year\": \"Sep-2019\", \"order\": 56}, {\"date\": \"2019-10-01T00:00:00\", \"mean\": 23.533105118050397, \"month-year\": \"Oct-2019\", \"order\": 57}, {\"date\": \"2019-11-01T00:00:00\", \"mean\": 24.092274560897906, \"month-year\": \"Nov-2019\", \"order\": 58}, {\"date\": \"2019-12-01T00:00:00\", \"mean\": 24.084615510227728, \"month-year\": \"Dec-2019\", \"order\": 59}]}};\n",
       "const opt = {};\n",
       "const type = \"vega-lite\";\n",
       "const id = \"848797b8-019d-4721-8cb6-2925e52f4f6d\";\n",
       "\n",
       "const output_area = this;\n",
       "\n",
       "require([\"nbextensions/jupyter-vega/index\"], function(vega) {\n",
       "  const target = document.createElement(\"div\");\n",
       "  target.id = id;\n",
       "  target.className = \"vega-embed\";\n",
       "\n",
       "  const style = document.createElement(\"style\");\n",
       "  style.textContent = [\n",
       "    \".vega-embed .error p {\",\n",
       "    \"  color: firebrick;\",\n",
       "    \"  font-size: 14px;\",\n",
       "    \"}\",\n",
       "  ].join(\"\\\\n\");\n",
       "\n",
       "  // element is a jQuery wrapped DOM element inside the output area\n",
       "  // see http://ipython.readthedocs.io/en/stable/api/generated/\\\n",
       "  // IPython.display.html#IPython.display.Javascript.__init__\n",
       "  element[0].appendChild(target);\n",
       "  element[0].appendChild(style);\n",
       "\n",
       "  vega.render(\"#\" + id, spec, type, opt, output_area);\n",
       "}, function (err) {\n",
       "  if (err.requireType !== \"scripterror\") {\n",
       "    throw(err);\n",
       "  }\n",
       "});\n"
      ],
      "text/plain": [
       "<vega.vegalite.VegaLite at 0x1a26badabc8>"
      ]
     },
     "metadata": {
      "jupyter-vega": "#848797b8-019d-4721-8cb6-2925e52f4f6d"
     },
     "output_type": "display_data"
    },
    {
     "data": {
      "text/plain": []
     },
     "execution_count": 31,
     "metadata": {},
     "output_type": "execute_result"
    }
   ],
   "source": [
    "line_chart = alt.Chart(df, title = 'NL in Bandra West, Mumbai').mark_line().encode(\n",
    "    x=alt.X('month-year:T', axis=alt.Axis(title='Month-Year')),\n",
    "    y=alt.Y('mean:Q', axis=alt.Axis(title='Mean Night Light Intensity'))\n",
    ")\n",
    "save(line_chart, 'Viz4.html')"
   ]
  },
  {
   "cell_type": "code",
   "execution_count": null,
   "metadata": {},
   "outputs": [],
   "source": [
    "# Viz 4: Daytime imagery Delhi Airport\n",
    "collection = ee.ImageCollection('LANDSAT/LC8_L1T_TOA')\n",
    "\n",
    "## Above commented out as you might not know the path and row this allows you to pass a coordinate\n",
    "pointUAE = ee.Geometry.Point(77.194431, 28.554769)\n",
    "pathrow = collection.filterBounds(pointUAE)\n",
    " \n",
    "##Filter cloudy scenes.\n",
    "clouds = pathrow.filter(ee.Filter.lt('CLOUD_COVER', 5))\n",
    "\n",
    "## select the bands, we are going for true colour... but could be any!\n",
    "bands = clouds.select(['B4', 'B3', 'B2'])\n",
    "\n",
    "##make the data 8-bit.\n",
    "def convertBit(image):\n",
    "    return image.multiply(512).uint8()  \n",
    "\n",
    "## call the conversion    \n",
    "outputVideo = bands.map(convertBit)\n",
    "\n",
    "#Export to video.\n",
    "# Delhi\n",
    "out = batch.Export.video.toDrive(outputVideo, description='delhi_video', dimensions = 720, framesPerSecond = 2, region=([77.21,28.6], [77.06, 28.6], [77.06, 28.52],[77.21, 28.52]), maxFrames=10000)\n",
    "\n",
    "## process the image\n",
    "process = batch.Task.start(out)\n"
   ]
  },
  {
   "cell_type": "code",
   "execution_count": null,
   "metadata": {},
   "outputs": [],
   "source": [
    "# Viz 5: HKV lights during pandemic\n",
    "poi = ee.Geometry.Point([hkv_lon, hkv_lat]).buffer(6000);\n",
    "viirs = ee.ImageCollection(\"NOAA/VIIRS/DNB/MONTHLY_V1/VCMSLCFG\").filterDate('2018-06-01','2020-12-31')\n",
    "\n",
    "def poi_mean(img):\n",
    "    mean = img.reduceRegion(reducer=ee.Reducer.mean(), geometry=poi, scale=30).get('avg_rad')\n",
    "    return img.set('date', img.date().format()).set('mean',mean)\n",
    "\n",
    "poi_reduced_imgs = viirs.map(poi_mean)\n",
    "\n",
    "nested_list = poi_reduced_imgs.reduceColumns(ee.Reducer.toList(2), ['date','mean']).values().get(0)\n",
    "df = pd.DataFrame(nested_list.getInfo(), columns=['date','mean'])\n",
    "\n",
    "df['date'] = pd.to_datetime(df['date'])\n",
    "df['month-year']= df.date.dt.month.apply(lambda x: calendar.month_abbr[x]) +'-'+ df.date.dt.year.astype(str)\n",
    "df = df.set_index('month-year')\n",
    "\n",
    "fig, ax = plt.subplots(figsize=(15,7))\n",
    "plt.xticks(rotation = 65)\n",
    "# we'll create the plot by setting our dataframe to the data argument\n",
    "sns.lineplot(data=df, ax=ax)\n",
    "\n",
    "# we'll set the labels and title\n",
    "ax.set_ylabel('Mean radiance',fontsize=20)\n",
    "ax.set_xlabel('Month-year',fontsize=20)\n",
    "ax.set_title('Monthly mean radiance for HKV (Jun 2019 to Dec 2020)',fontsize=20);"
   ]
  }
 ],
 "metadata": {
  "@webio": {
   "lastCommId": null,
   "lastKernelId": null
  },
  "kernelspec": {
   "display_name": "Python 3",
   "language": "python",
   "name": "python3"
  },
  "language_info": {
   "codemirror_mode": {
    "name": "ipython",
    "version": 3
   },
   "file_extension": ".py",
   "mimetype": "text/x-python",
   "name": "python",
   "nbconvert_exporter": "python",
   "pygments_lexer": "ipython3",
   "version": "3.7.10"
  }
 },
 "nbformat": 4,
 "nbformat_minor": 4
}
